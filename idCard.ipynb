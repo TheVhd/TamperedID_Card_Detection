{
 "cells": [
  {
   "cell_type": "code",
   "execution_count": null,
   "metadata": {},
   "outputs": [],
   "source": [
    "#from skimage.measure import structural_similarity\n",
    "from skimage.metrics import structural_similarity as ssim\n",
    "#from skimage import measure\n",
    "import imutils\n",
    "import cv2\n",
    "from PIL import Image\n",
    "import requests\n",
    "import os\n",
    "\n",
    "if not os.path.exists(\"pan_card_tampering\"):\n",
    "    os.mkdir(\"pan_card_tampering\")\n",
    "\n",
    "if not os.path.exists(\"pan_card_tampering/image\"):\n",
    "    os.mkdir(\"pan_card_tampering/image\")"
   ]
  },
  {
   "cell_type": "code",
   "execution_count": null,
   "metadata": {},
   "outputs": [],
   "source": [
    "original = Image.open(r\"PATH HERE\")\n",
    "tampered = Image.open(r\"PATH HERE\")"
   ]
  },
  {
   "cell_type": "code",
   "execution_count": null,
   "metadata": {},
   "outputs": [],
   "source": [
    "# The File format of the source file\n",
    "print(\"Original image Format :\", original.format)\n",
    "print(\"Original image Format :\", tampered.format)\n",
    "\n",
    "# Image size, in pixels. THe size is given as a 2-tupke (width, height)\n",
    "print(\"Original image size :\", original.size)\n",
    "print(\"Original image size :\", tampered.size)"
   ]
  },
  {
   "cell_type": "code",
   "execution_count": null,
   "metadata": {},
   "outputs": [],
   "source": [
    "# Resize image\n",
    "original = original.resize((250, 160))\n",
    "print(original.size)\n",
    "original.save('pan_card_tampering/image/Original.jpg') #Save image\n",
    "tampered = tampered.resize((260,160))\n",
    "print(tampered.size)\n",
    "tampered.save('pan_card_tampering/image/tampered.png') #save image\n",
    "\n",
    "(250,160)\n",
    "(250,160)\n"
   ]
  },
  {
   "cell_type": "code",
   "execution_count": null,
   "metadata": {},
   "outputs": [],
   "source": [
    "#Change image type if required from png to jpg\n",
    "tampered = Image.open('pan_card_tampering/image/tampered.png')\n",
    "tampered.save('pan_card_tampering/image/tampered.jpg')"
   ]
  },
  {
   "cell_type": "code",
   "execution_count": null,
   "metadata": {},
   "outputs": [],
   "source": [
    "#Display original\n",
    "original"
   ]
  },
  {
   "cell_type": "code",
   "execution_count": null,
   "metadata": {},
   "outputs": [],
   "source": [
    "#Display Tempered image\n",
    "tampered"
   ]
  },
  {
   "cell_type": "code",
   "execution_count": null,
   "metadata": {},
   "outputs": [],
   "source": [
    "# load the two input images\n",
    "original = cv2.imread(r'PATH HERE')\n",
    "tampered = cv2.imread(r'PATH HERE')"
   ]
  },
  {
   "cell_type": "code",
   "execution_count": null,
   "metadata": {},
   "outputs": [],
   "source": [
    "print(original)"
   ]
  },
  {
   "cell_type": "markdown",
   "metadata": {},
   "source": [
    "The grayscale is done to recognize important edges of the colored images\n"
   ]
  },
  {
   "cell_type": "code",
   "execution_count": null,
   "metadata": {},
   "outputs": [],
   "source": [
    "# Convert the image to grayscale\n",
    "Original_gray = cv2.cvtColor(original, cv2.COLOR_BGR2GRAY)\n",
    "tampered_gray = cv2.cvtColor(tampered, cv2.COLOR_BGR2GRAY)"
   ]
  },
  {
   "cell_type": "code",
   "execution_count": null,
   "metadata": {},
   "outputs": [],
   "source": [
    "print(\"Original_gray shape:\", Original_gray.shape)\n",
    "print(\"Tampered_gray shape:\", tampered_gray.shape)\n"
   ]
  },
  {
   "cell_type": "code",
   "execution_count": null,
   "metadata": {},
   "outputs": [],
   "source": [
    "import cv2\n",
    "\n",
    "# Resize the images to a common size (e.g., 256x256)\n",
    "desired_size = (256, 256)\n",
    "Original_gray = cv2.resize(Original_gray, desired_size)\n",
    "tampered_gray = cv2.resize(tampered_gray, desired_size)\n"
   ]
  },
  {
   "cell_type": "code",
   "execution_count": null,
   "metadata": {},
   "outputs": [],
   "source": [
    "# Computing the Structural Simularity Index (SSIM) between the two images, to ensure that the difference of the images will returned\n",
    "(score, diff) = ssim(Original_gray, tampered_gray, full= True)\n",
    "diff = (diff * 255).astype(\"uint8\")\n",
    "print(\"SSIM: {}\".format(score))"
   ]
  },
  {
   "cell_type": "code",
   "execution_count": null,
   "metadata": {},
   "outputs": [],
   "source": [
    "# Calculating the threshold and contours\n",
    "thresh = cv2.threshold(diff, 0, 255, cv2.THRESH_BINARY_INV | cv2.THRESH_OTSU)[1]\n",
    "cnts = cv2.findContours(thresh.copy(), cv2.RETR_EXTERNAL, cv2.CHAIN_APPROX_SIMPLE)\n",
    "cnts = imutils.grab_contours(cnts)\n",
    "# In this step we are using the threshold function of computer vision which applies an adaptive thresholdto the image which is stored in the from array. This fucntion transforms the grayscale image into a binary using a math formula\n",
    "# Find Contours works on binary image and retrive the contours. This Contours are a usefuk tool for shape analysis and recognition. Grab contours grabs the appropriate value of the contours"
   ]
  },
  {
   "cell_type": "code",
   "execution_count": null,
   "metadata": {},
   "outputs": [],
   "source": [
    "# loop over the contours\n",
    "# Building rectangle helps in finding the ratio of width to height of bounding box of the countour and then draw the bounding box on both input images to represent where the two are different or not\n",
    "for i in cnts:\n",
    "    #applying contours on image\n",
    "    (x,y,w,h) = cv2.boundingRect(i)\n",
    "    cv2.rectangle(original, (x,y),(x + w, y + h), (0,0,255),2)\n",
    "    cv2.rectangle(tampered, (x,y),(x + w, y + h), (0,0,255),2)"
   ]
  },
  {
   "cell_type": "code",
   "execution_count": null,
   "metadata": {},
   "outputs": [],
   "source": [
    "#Display original image with contour\n",
    "print('Original Format Image')\n",
    "Image.fromarray(original)"
   ]
  },
  {
   "cell_type": "code",
   "execution_count": null,
   "metadata": {},
   "outputs": [],
   "source": [
    "#Display tampered image with contour\n",
    "print('Tampered Image')\n",
    "Image.fromarray(tampered)"
   ]
  },
  {
   "cell_type": "code",
   "execution_count": null,
   "metadata": {},
   "outputs": [],
   "source": [
    "# print difference image with black\n",
    "print('Different Image')\n",
    "Image.fromarray(diff)"
   ]
  },
  {
   "cell_type": "code",
   "execution_count": null,
   "metadata": {},
   "outputs": [],
   "source": [
    "# Display threshold image with white\n",
    "print(\"Threshold Image\")\n",
    "Image.fromarray(thresh)"
   ]
  },
  {
   "cell_type": "code",
   "execution_count": null,
   "metadata": {},
   "outputs": [],
   "source": []
  }
 ],
 "metadata": {
  "kernelspec": {
   "display_name": "Python 3",
   "language": "python",
   "name": "python3"
  },
  "language_info": {
   "codemirror_mode": {
    "name": "ipython",
    "version": 3
   },
   "file_extension": ".py",
   "mimetype": "text/x-python",
   "name": "python",
   "nbconvert_exporter": "python",
   "pygments_lexer": "ipython3",
   "version": "3.10.1"
  },
  "orig_nbformat": 4
 },
 "nbformat": 4,
 "nbformat_minor": 2
}
